{
 "cells": [
  {
   "cell_type": "code",
   "execution_count": 1,
   "metadata": {},
   "outputs": [],
   "source": [
    "from tree_sitter import Language, Parser\n",
    "\n",
    "Language.build_library(\n",
    "    \".local/build/json_prefix.so\",\n",
    "    [\n",
    "        \"tree-sitter-json-prefix\"\n",
    "    ]\n",
    ")\n",
    "JSON_LANGUAGE = Language(\".local/build/json_prefix.so\", \"json_prefix\")\n",
    "\n",
    "parser = Parser()\n",
    "parser.set_language(JSON_LANGUAGE)"
   ]
  },
  {
   "cell_type": "code",
   "execution_count": 2,
   "metadata": {},
   "outputs": [],
   "source": [
    "def print_tree(node, depth=0):\n",
    "    node_type = node.type\n",
    "    has_error = node.has_error\n",
    "    padding = \" \" * depth\n",
    "    is_missing = node.is_missing\n",
    "    print(f'{padding}<type=\"{node_type}\" has_error=({has_error}) is_missing=({is_missing}) range=({node.start_byte}, {node.end_byte})>')\n",
    "    for child in node.children:\n",
    "        print_tree(child, depth + 1)\n",
    "    print(f\"{padding}</type={node_type}>\")\n",
    "\n",
    "def print_tree_from_string(s):\n",
    "    tree = parser.parse(bytes(s, \"utf8\"))\n",
    "    print_tree(tree.root_node)"
   ]
  },
  {
   "cell_type": "code",
   "execution_count": 3,
   "metadata": {},
   "outputs": [
    {
     "name": "stdout",
     "output_type": "stream",
     "text": [
      "True\n",
      "<type=\"document\" has_error=(False) is_missing=(False) range=(0, 4)>\n",
      " <type=\"prefix_object\" has_error=(False) is_missing=(False) range=(0, 4)>\n",
      "  <type=\"{\" has_error=(False) is_missing=(False) range=(0, 1)>\n",
      "  </type={>\n",
      "  <type=\"prefix_pair\" has_error=(False) is_missing=(False) range=(2, 4)>\n",
      "   <type=\"prefix_string\" has_error=(False) is_missing=(False) range=(2, 4)>\n",
      "    <type=\"\"\" has_error=(False) is_missing=(False) range=(2, 3)>\n",
      "    </type=\">\n",
      "    <type=\"string_content\" has_error=(False) is_missing=(False) range=(3, 4)>\n",
      "    </type=string_content>\n",
      "   </type=prefix_string>\n",
      "  </type=prefix_pair>\n",
      " </type=prefix_object>\n",
      "</type=document>\n",
      "(document (prefix_object (prefix_pair key: (prefix_string (string_content)))))\n"
     ]
    }
   ],
   "source": [
    "def depth_first_traversal(node):\n",
    "    \"\"\"Depth-first traversal of the tree\"\"\"\n",
    "    yield node\n",
    "    for child in node.children:\n",
    "        yield from depth_first_traversal(child)\n",
    "\n",
    "def is_json_or_prefix(s):\n",
    "    tree = parser.parse(bytes(s, \"utf8\"))\n",
    "    return not any(node.has_error for node in depth_first_traversal(tree.root_node))\n",
    "\n",
    "s = '{\\n\"a'\n",
    "\n",
    "print(is_json_or_prefix(s))\n",
    "print_tree_from_string(s)\n",
    "tree = parser.parse(bytes(s, \"utf8\"))\n",
    "print(tree.root_node.sexp())"
   ]
  },
  {
   "cell_type": "code",
   "execution_count": 4,
   "metadata": {},
   "outputs": [
    {
     "data": {
      "text/plain": [
       "'(document (array (number) (number) (number)))'"
      ]
     },
     "execution_count": 4,
     "metadata": {},
     "output_type": "execute_result"
    }
   ],
   "source": [
    "parser.parse(b\"[1, 2, 3]\").root_node.sexp()"
   ]
  },
  {
   "cell_type": "code",
   "execution_count": 5,
   "metadata": {},
   "outputs": [
    {
     "data": {
      "text/plain": [
       "'(document (prefix_array (number) (number) (number)))'"
      ]
     },
     "execution_count": 5,
     "metadata": {},
     "output_type": "execute_result"
    }
   ],
   "source": [
    "parser.parse(b\"[1, 2, 3\").root_node.sexp()"
   ]
  },
  {
   "cell_type": "code",
   "execution_count": 6,
   "metadata": {},
   "outputs": [
    {
     "data": {
      "text/plain": [
       "'(document (array (number) (number) (MISSING number)))'"
      ]
     },
     "execution_count": 6,
     "metadata": {},
     "output_type": "execute_result"
    }
   ],
   "source": [
    "parser.parse(b\"[1, 2, ]\").root_node.sexp()"
   ]
  },
  {
   "cell_type": "code",
   "execution_count": 7,
   "metadata": {},
   "outputs": [
    {
     "data": {
      "text/plain": [
       "'(document (number))'"
      ]
     },
     "execution_count": 7,
     "metadata": {},
     "output_type": "execute_result"
    }
   ],
   "source": [
    "parser.parse(b\"1e1\").root_node.sexp()"
   ]
  },
  {
   "cell_type": "code",
   "execution_count": 8,
   "metadata": {},
   "outputs": [
    {
     "data": {
      "text/plain": [
       "'(document (prefix_number))'"
      ]
     },
     "execution_count": 8,
     "metadata": {},
     "output_type": "execute_result"
    }
   ],
   "source": [
    "parser.parse(b\"1e\").root_node.sexp()"
   ]
  },
  {
   "cell_type": "code",
   "execution_count": 9,
   "metadata": {},
   "outputs": [
    {
     "data": {
      "text/plain": [
       "\"(document (number) (ERROR (UNEXPECTED 'a')))\""
      ]
     },
     "execution_count": 9,
     "metadata": {},
     "output_type": "execute_result"
    }
   ],
   "source": [
    "parser.parse(b\"1a\").root_node.sexp()"
   ]
  },
  {
   "cell_type": "code",
   "execution_count": null,
   "metadata": {},
   "outputs": [],
   "source": []
  }
 ],
 "metadata": {
  "kernelspec": {
   "display_name": ".venv",
   "language": "python",
   "name": "python3"
  },
  "language_info": {
   "codemirror_mode": {
    "name": "ipython",
    "version": 3
   },
   "file_extension": ".py",
   "mimetype": "text/x-python",
   "name": "python",
   "nbconvert_exporter": "python",
   "pygments_lexer": "ipython3",
   "version": "3.8.10"
  },
  "orig_nbformat": 4
 },
 "nbformat": 4,
 "nbformat_minor": 2
}
